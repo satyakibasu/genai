{
 "cells": [
  {
   "cell_type": "markdown",
   "id": "e5ea111d",
   "metadata": {},
   "source": [
    "# --------------------------------------------------------------\n",
    "# Setup the Environments      \n",
    "# --------------------------------------------------------------"
   ]
  },
  {
   "cell_type": "code",
   "execution_count": 8,
   "id": "b8ddb818",
   "metadata": {},
   "outputs": [
    {
     "data": {
      "text/html": [
       "<pre style=\"white-space:pre;overflow-x:auto;line-height:normal;font-family:Menlo,'DejaVu Sans Mono',consolas,'Courier New',monospace\">Using GitHub models<span style=\"color: #808000; text-decoration-color: #808000\">...</span>\n",
       "</pre>\n"
      ],
      "text/plain": [
       "Using GitHub models\u001b[33m...\u001b[0m\n"
      ]
     },
     "metadata": {},
     "output_type": "display_data"
    }
   ],
   "source": [
    "import os\n",
    "import openai\n",
    "from dotenv import load_dotenv\n",
    "from rich import print\n",
    "from pydantic import BaseModel, Field\n",
    "from typing import Literal,Optional\n",
    "\n",
    "load_dotenv()\n",
    "API_HOST = os.getenv(\"API_HOST\", \"github\")\n",
    "\n",
    "if API_HOST == \"github\":\n",
    "    print(\"Using GitHub models...\")\n",
    "    client = openai.OpenAI(base_url=\"https://models.github.ai/inference\", api_key=os.environ[\"GITHUB_TOKEN\"])\n",
    "    MODEL_NAME = os.getenv(\"GITHUB_MODEL\", \"openai/gpt-4o\")\n",
    "elif API_HOST == \"ollama\":\n",
    "    print(\"Using Ollama model on local...\")\n",
    "    client = openai.OpenAI(base_url=\"http://localhost:11434/v1\", api_key=\"nokeyneeded\")\n",
    "    MODEL_NAME = os.getenv(\"OLLAMA_MODEL\", \"mistral\")\n"
   ]
  },
  {
   "cell_type": "markdown",
   "id": "9481e4bc",
   "metadata": {},
   "source": [
    "# --------------------------------------------------------------\n",
    "# Step 1: Define the data models for routing and responses\n",
    "# --------------------------------------------------------------"
   ]
  },
  {
   "cell_type": "code",
   "execution_count": 20,
   "id": "e70e47df",
   "metadata": {},
   "outputs": [],
   "source": [
    "class CalendarRequestType(BaseModel):\n",
    "    request_type: Literal[\"new_event\", \"modify_event\", \"other\"]\n",
    "    confidence_score:float\n",
    "    description: str\n",
    "\n",
    "\n",
    "class NewEventDetails(BaseModel):\n",
    "    name: str = Field(description=\"Name of the event\")\n",
    "    date: str = Field(description=\"Date and time of the event (ISO 8601)\")\n",
    "    duration_minutes: int = Field(description=\"Duration in minutes\")\n",
    "    participants: list[str] = Field(description=\"List of participants\")\n",
    "\n",
    "\n",
    "class CalendarResponse(BaseModel):\n",
    "    \"\"\"Final response format\"\"\"\n",
    "    success: bool = Field(description=\"Whether the operation was successful\")\n",
    "    message: str = Field(description=\"User-friendly response message\")\n",
    "    calendar_link: Optional[str] = Field(description=\"Calendar link if applicable\")\n",
    "\n",
    "\n",
    "class Change(BaseModel):\n",
    "    \"\"\"Details for changing an existing event\"\"\"\n",
    "\n",
    "    field: str = Field(description=\"Field to change\")\n",
    "    new_value: str = Field(description=\"New value for the field\")\n",
    "\n",
    "\n",
    "class ModifyEventDetails(BaseModel):\n",
    "    \"\"\"Details for modifying an existing event\"\"\"\n",
    "    event_identifier: str = Field(description=\"Description to identify the existing event\")\n",
    "    changes: list[Change] = Field(description=\"List of changes to make\")\n",
    "    participants_to_add: list[str] = Field(description=\"New participants to add\")\n",
    "    participants_to_remove: list[str] = Field(description=\"Participants to remove\")\n"
   ]
  },
  {
   "cell_type": "markdown",
   "id": "8ce7a498",
   "metadata": {},
   "source": [
    "# --------------------------------------------------------------\n",
    "# Step 2: Define the routing and processing functions\n",
    "# --------------------------------------------------------------"
   ]
  },
  {
   "cell_type": "code",
   "execution_count": null,
   "id": "bd338acf",
   "metadata": {},
   "outputs": [],
   "source": [
    "def route_calendar_request(user_input:str) -> CalendarRequestType:\n",
    "    messages = [\n",
    "        {\"role\": \"system\",\"content\": \"Determine if this is a request to create a new calendar event or modify an existing one.\",},\n",
    "        {\"role\": \"user\", \"content\": user_input},\n",
    "        ]\n",
    "\n",
    "    response = client.chat.completions.parse(\n",
    "        model=MODEL_NAME,\n",
    "        temperature=0.7,\n",
    "        n=1,\n",
    "        messages=messages,\n",
    "        response_format=CalendarRequestType\n",
    "        )\n",
    "    \n",
    "    print(f\"Response from {MODEL_NAME} on {API_HOST}\")\n",
    "    #print(response)\n",
    "    parsed_CalendarRequestType = response.choices[0].message.parsed\n",
    "    print(\"parsed_CalendarRequestType:\",parsed_CalendarRequestType)\n",
    "    \n",
    "    return parsed_CalendarRequestType\n",
    "\n",
    "\n",
    "def handle_new_event(desc) -> CalendarResponse:\n",
    "    messages = [\n",
    "        {\"role\": \"system\",\"content\": \"Extract details for creating a new calendar event.\",},\n",
    "        {\"role\": \"user\", \"content\": desc},\n",
    "        ]\n",
    "\n",
    "    response = client.chat.completions.parse(\n",
    "        model=MODEL_NAME,\n",
    "        temperature=0.7,\n",
    "        n=1,\n",
    "        messages=messages,\n",
    "        response_format=NewEventDetails\n",
    "        )\n",
    "    \n",
    "    print(f\"Response from {MODEL_NAME} on {API_HOST}\")\n",
    "    parsed_NewEventDetails = response.choices[0].message.parsed\n",
    "    print(\"parsed_NewEventDetails:\",parsed_NewEventDetails)\n",
    "\n",
    "    return CalendarResponse(\n",
    "        success=True,\n",
    "        message=f\"Created new event '{parsed_NewEventDetails.name}' for {parsed_NewEventDetails.date} with {', '.join(parsed_NewEventDetails.participants)}\",\n",
    "        calendar_link=f\"calendar://new?event={parsed_NewEventDetails.name}\",\n",
    "    )\n",
    "\n",
    "def handle_modify_event(desc)->CalendarResponse:\n",
    "    messages=[\n",
    "            {\n",
    "                \"role\": \"system\",\n",
    "                \"content\": \"Extract details for modifying an existing calendar event.\",\n",
    "            },\n",
    "            {\"role\": \"user\", \"content\": desc},\n",
    "        ]\n",
    "\n",
    "\n",
    "\n",
    "    response = client.chat.completions.parse(\n",
    "        model=MODEL_NAME,\n",
    "        temperature=0.7,\n",
    "        n=1,\n",
    "        messages=messages,\n",
    "        response_format=ModifyEventDetails,\n",
    "\n",
    "        )\n",
    "    \n",
    "    print(f\"Response from {MODEL_NAME} on {API_HOST}\")\n",
    "    parsed_ModifyEventDetails = response.choices[0].message.parsed\n",
    "    print(\"parsed_ModifyEventDetails:\",parsed_ModifyEventDetails)\n",
    "\n",
    "    # here you can call the Calendar API to make the actual changes\n",
    "\n"
   ]
  },
  {
   "cell_type": "markdown",
   "id": "30c89f24",
   "metadata": {},
   "source": [
    "# --------------------------------------------------------------\n",
    "# ############# MAIN CODE ####################\n",
    "# --------------------------------------------------------------"
   ]
  },
  {
   "cell_type": "code",
   "execution_count": 27,
   "id": "06b4459c",
   "metadata": {},
   "outputs": [
    {
     "data": {
      "text/html": [
       "<pre style=\"white-space:pre;overflow-x:auto;line-height:normal;font-family:Menlo,'DejaVu Sans Mono',consolas,'Courier New',monospace\">Response from gpt-4o-mini on github\n",
       "</pre>\n"
      ],
      "text/plain": [
       "Response from gpt-4o-mini on github\n"
      ]
     },
     "metadata": {},
     "output_type": "display_data"
    },
    {
     "data": {
      "text/html": [
       "<pre style=\"white-space:pre;overflow-x:auto;line-height:normal;font-family:Menlo,'DejaVu Sans Mono',consolas,'Courier New',monospace\">parsed_CalendarRequestType:\n",
       "<span style=\"color: #800080; text-decoration-color: #800080; font-weight: bold\">CalendarRequestType</span><span style=\"font-weight: bold\">(</span>\n",
       "    <span style=\"color: #808000; text-decoration-color: #808000\">request_type</span>=<span style=\"color: #008000; text-decoration-color: #008000\">'other'</span>,\n",
       "    <span style=\"color: #808000; text-decoration-color: #808000\">confidence_score</span>=<span style=\"color: #008080; text-decoration-color: #008080; font-weight: bold\">0.0</span>,\n",
       "    <span style=\"color: #808000; text-decoration-color: #808000\">description</span>=<span style=\"color: #008000; text-decoration-color: #008000\">'The request is not related to calendar events.'</span>\n",
       "<span style=\"font-weight: bold\">)</span>\n",
       "</pre>\n"
      ],
      "text/plain": [
       "parsed_CalendarRequestType:\n",
       "\u001b[1;35mCalendarRequestType\u001b[0m\u001b[1m(\u001b[0m\n",
       "    \u001b[33mrequest_type\u001b[0m=\u001b[32m'other'\u001b[0m,\n",
       "    \u001b[33mconfidence_score\u001b[0m=\u001b[1;36m0\u001b[0m\u001b[1;36m.0\u001b[0m,\n",
       "    \u001b[33mdescription\u001b[0m=\u001b[32m'The request is not related to calendar events.'\u001b[0m\n",
       "\u001b[1m)\u001b[0m\n"
      ]
     },
     "metadata": {},
     "output_type": "display_data"
    }
   ],
   "source": [
    "# test for new event\n",
    "#user_input = \"Let's schedule a team meeting next Tuesday at 2pm with Alice and Bob\"\n",
    "\n",
    "# test for modify event\n",
    "#user_input = \"Can you move the team meeting with Alice and Bob to Wednesday at 3pm instead?\"\n",
    "\n",
    "## test for invalid event\n",
    "user_input = \"What's the weather like today\"\n",
    "route_result = route_calendar_request(user_input)"
   ]
  },
  {
   "cell_type": "code",
   "execution_count": 28,
   "id": "3a668f39",
   "metadata": {},
   "outputs": [
    {
     "data": {
      "text/html": [
       "<pre style=\"white-space:pre;overflow-x:auto;line-height:normal;font-family:Menlo,'DejaVu Sans Mono',consolas,'Courier New',monospace\">Exiting program due to low confidence score<span style=\"color: #808000; text-decoration-color: #808000\">...</span>\n",
       "</pre>\n"
      ],
      "text/plain": [
       "Exiting program due to low confidence score\u001b[33m...\u001b[0m\n"
      ]
     },
     "metadata": {},
     "output_type": "display_data"
    },
    {
     "data": {
      "text/html": [
       "<pre style=\"white-space:pre;overflow-x:auto;line-height:normal;font-family:Menlo,'DejaVu Sans Mono',consolas,'Courier New',monospace\">Response from gpt-4o-mini on github\n",
       "</pre>\n"
      ],
      "text/plain": [
       "Response from gpt-4o-mini on github\n"
      ]
     },
     "metadata": {},
     "output_type": "display_data"
    },
    {
     "data": {
      "text/html": [
       "<pre style=\"white-space:pre;overflow-x:auto;line-height:normal;font-family:Menlo,'DejaVu Sans Mono',consolas,'Courier New',monospace\">parsed_CalendarRequestType:\n",
       "<span style=\"color: #800080; text-decoration-color: #800080; font-weight: bold\">CalendarRequestType</span><span style=\"font-weight: bold\">(</span>\n",
       "    <span style=\"color: #808000; text-decoration-color: #808000\">request_type</span>=<span style=\"color: #008000; text-decoration-color: #008000\">'other'</span>,\n",
       "    <span style=\"color: #808000; text-decoration-color: #808000\">confidence_score</span>=<span style=\"color: #008080; text-decoration-color: #008080; font-weight: bold\">0.0</span>,\n",
       "    <span style=\"color: #808000; text-decoration-color: #808000\">description</span>=<span style=\"color: #008000; text-decoration-color: #008000\">'The request does not pertain to a calendar event.'</span>\n",
       "<span style=\"font-weight: bold\">)</span>\n",
       "</pre>\n"
      ],
      "text/plain": [
       "parsed_CalendarRequestType:\n",
       "\u001b[1;35mCalendarRequestType\u001b[0m\u001b[1m(\u001b[0m\n",
       "    \u001b[33mrequest_type\u001b[0m=\u001b[32m'other'\u001b[0m,\n",
       "    \u001b[33mconfidence_score\u001b[0m=\u001b[1;36m0\u001b[0m\u001b[1;36m.0\u001b[0m,\n",
       "    \u001b[33mdescription\u001b[0m=\u001b[32m'The request does not pertain to a calendar event.'\u001b[0m\n",
       "\u001b[1m)\u001b[0m\n"
      ]
     },
     "metadata": {},
     "output_type": "display_data"
    },
    {
     "data": {
      "text/html": [
       "<pre style=\"white-space:pre;overflow-x:auto;line-height:normal;font-family:Menlo,'DejaVu Sans Mono',consolas,'Courier New',monospace\"><span style=\"color: #800080; text-decoration-color: #800080; font-style: italic\">None</span>\n",
       "</pre>\n"
      ],
      "text/plain": [
       "\u001b[3;35mNone\u001b[0m\n"
      ]
     },
     "metadata": {},
     "output_type": "display_data"
    }
   ],
   "source": [
    "# Check confidence threshold\n",
    "if route_result.confidence_score < 0.7:\n",
    "    print(\"Exiting program due to low confidence score...\")\n",
    "    exit(1)\n",
    "\n",
    "# Now based on the request_type, we need to route to the right LLM agent\n",
    "\n",
    "# Lets first check the event type\n",
    "route_result = route_calendar_request(user_input)\n",
    "\n",
    "if route_result.request_type == 'new_event':\n",
    "    response = handle_new_event(route_result.description)\n",
    "elif route_result.request_type == \"modify_event\":\n",
    "    response = handle_modify_event(route_result.description)\n",
    "\n",
    "print(response)"
   ]
  }
 ],
 "metadata": {
  "kernelspec": {
   "display_name": "base",
   "language": "python",
   "name": "python3"
  },
  "language_info": {
   "codemirror_mode": {
    "name": "ipython",
    "version": 3
   },
   "file_extension": ".py",
   "mimetype": "text/x-python",
   "name": "python",
   "nbconvert_exporter": "python",
   "pygments_lexer": "ipython3",
   "version": "3.9.13"
  }
 },
 "nbformat": 4,
 "nbformat_minor": 5
}
